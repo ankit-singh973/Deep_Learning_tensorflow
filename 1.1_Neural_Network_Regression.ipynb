{
  "nbformat": 4,
  "nbformat_minor": 0,
  "metadata": {
    "colab": {
      "provenance": [],
      "gpuType": "T4",
      "mount_file_id": "1M7mN7kws0f_IZgn3As5bMR2sp0r0TdWG",
      "authorship_tag": "ABX9TyNckzI3G6U/FXgVwDOFn6ep",
      "include_colab_link": true
    },
    "kernelspec": {
      "name": "python3",
      "display_name": "Python 3"
    },
    "language_info": {
      "name": "python"
    }
  },
  "cells": [
    {
      "cell_type": "markdown",
      "metadata": {
        "id": "view-in-github",
        "colab_type": "text"
      },
      "source": [
        "<a href=\"https://colab.research.google.com/github/ankit-singh973/Deep_Learning_tensorflow/blob/main/1.1_Neural_Network_Regression.ipynb\" target=\"_parent\"><img src=\"https://colab.research.google.com/assets/colab-badge.svg\" alt=\"Open In Colab\"/></a>"
      ]
    },
    {
      "cell_type": "markdown",
      "source": [
        "# **Introduction to Regression with Neural Networks in Tensorflow**\n",
        "- Predicting a numerical variable (dependent variable) based on combination of other variables (independent variables)"
      ],
      "metadata": {
        "id": "rqr_naxElyBH"
      }
    },
    {
      "cell_type": "code",
      "source": [
        "# import tensorflow\n",
        "import tensorflow as tf\n",
        "from tensorflow import keras\n",
        "print(tf.__version__)"
      ],
      "metadata": {
        "colab": {
          "base_uri": "https://localhost:8080/"
        },
        "id": "FHTxlYaWrM2s",
        "outputId": "6355ccc8-4024-4c55-ba6d-298099401ab6"
      },
      "execution_count": null,
      "outputs": [
        {
          "output_type": "stream",
          "name": "stdout",
          "text": [
            "2.14.0\n"
          ]
        }
      ]
    },
    {
      "cell_type": "code",
      "source": [
        "#create some data to view and fit\n",
        "import numpy as np\n",
        "import matplotlib.pyplot as plt\n",
        "\n",
        "#create features (independent variables)\n",
        "X = np.array([-7.0, -4.0, -1.0, 2.0, 5.0, 8.0, 11.0, 14.0])\n",
        "\n",
        "#create labels (dependent varibales)\n",
        "y = np.array([3.0, 6.0, 9.0, 12.0, 15.0, 18.0, 21.0, 24.0])\n",
        "\n",
        "#Visualize it\n",
        "plt.scatter(X,y)"
      ],
      "metadata": {
        "colab": {
          "base_uri": "https://localhost:8080/",
          "height": 453
        },
        "id": "BcRsVBLXrmwx",
        "outputId": "68ef62da-ac82-4d66-8b4e-8f74e0f431e2"
      },
      "execution_count": null,
      "outputs": [
        {
          "output_type": "execute_result",
          "data": {
            "text/plain": [
              "<matplotlib.collections.PathCollection at 0x7bded5406b90>"
            ]
          },
          "metadata": {},
          "execution_count": 2
        },
        {
          "output_type": "display_data",
          "data": {
            "text/plain": [
              "<Figure size 640x480 with 1 Axes>"
            ],
            "image/png": "[encoded data removed]"
          },
          "metadata": {}
        }
      ]
    },
    {
      "cell_type": "markdown",
      "source": [
        "## **`y = X+10`**"
      ],
      "metadata": {
        "id": "gd2Un8UpssGl"
      }
    },
    {
      "cell_type": "code",
      "source": [
        "y == X+10"
      ],
      "metadata": {
        "colab": {
          "base_uri": "https://localhost:8080/"
        },
        "id": "QrF5ZWiXsYGW",
        "outputId": "4b364d77-ec43-4477-c03e-404153237652"
      },
      "execution_count": null,
      "outputs": [
        {
          "output_type": "execute_result",
          "data": {
            "text/plain": [
              "array([ True,  True,  True,  True,  True,  True,  True,  True])"
            ]
          },
          "metadata": {},
          "execution_count": 3
        }
      ]
    },
    {
      "cell_type": "code",
      "source": [
        "input_shape = X.shape\n",
        "input_shape"
      ],
      "metadata": {
        "colab": {
          "base_uri": "https://localhost:8080/"
        },
        "id": "xTrefPWPtMIg",
        "outputId": "4b2fb520-7014-4d2d-f3b4-82605b17cbb7"
      },
      "execution_count": null,
      "outputs": [
        {
          "output_type": "execute_result",
          "data": {
            "text/plain": [
              "(8,)"
            ]
          },
          "metadata": {},
          "execution_count": 4
        }
      ]
    },
    {
      "cell_type": "code",
      "source": [
        "output_shape = y.shape\n",
        "output_shape"
      ],
      "metadata": {
        "colab": {
          "base_uri": "https://localhost:8080/"
        },
        "id": "FbH01quPtb24",
        "outputId": "9fce4f8d-0e80-4080-8e6f-ce3a93eabc76"
      },
      "execution_count": null,
      "outputs": [
        {
          "output_type": "execute_result",
          "data": {
            "text/plain": [
              "(8,)"
            ]
          },
          "metadata": {},
          "execution_count": 5
        }
      ]
    },
    {
      "cell_type": "code",
      "source": [
        "#turn our numpy arrays into tensors with float32\n",
        "X = tf.cast(tf.constant(X), dtype = tf.float32)\n",
        "y = tf.cast(tf.constant(y), dtype = tf.float32)\n",
        "X, y"
      ],
      "metadata": {
        "colab": {
          "base_uri": "https://localhost:8080/"
        },
        "id": "udomC7UtteC7",
        "outputId": "30d35801-f261-4aed-d849-2552d4b65820"
      },
      "execution_count": null,
      "outputs": [
        {
          "output_type": "execute_result",
          "data": {
            "text/plain": [
              "(<tf.Tensor: shape=(8,), dtype=float32, numpy=array([-7., -4., -1.,  2.,  5.,  8., 11., 14.], dtype=float32)>,\n",
              " <tf.Tensor: shape=(8,), dtype=float32, numpy=array([ 3.,  6.,  9., 12., 15., 18., 21., 24.], dtype=float32)>)"
            ]
          },
          "metadata": {},
          "execution_count": 6
        }
      ]
    },
    {
      "cell_type": "code",
      "source": [
        "input_shape = X[0].shape\n",
        "output_shape = y[0].shape\n",
        "input_shape, output_shape #these are both scalars (no shape)"
      ],
      "metadata": {
        "colab": {
          "base_uri": "https://localhost:8080/"
        },
        "id": "b4v_WO7vyu-b",
        "outputId": "395fd05d-266d-490c-b82d-bbf316f394a8"
      },
      "execution_count": null,
      "outputs": [
        {
          "output_type": "execute_result",
          "data": {
            "text/plain": [
              "(TensorShape([]), TensorShape([]))"
            ]
          },
          "metadata": {},
          "execution_count": 7
        }
      ]
    },
    {
      "cell_type": "markdown",
      "source": [
        "## **Steps in modelling with tensorflow**\n",
        "\n",
        "1.  **Creating a model** - define the input and output layers, as well as the hidden layers of the deep learning model.\n",
        "2. **Compiling a model** - define the `loss function` (in other words the function which tells our model how wrong it is) and the `optimizer` (tells oue model how to mporve the patterns and it's learning) and `evalation metrics` (what can we do to interpret the performance of our model).\n",
        "3. **Fitting a model**  - letting the model try to find patterns between `X` & `y` (features and lebels)"
      ],
      "metadata": {
        "id": "ztYhzNyRy9xy"
      }
    },
    {
      "cell_type": "code",
      "source": [
        "# Set random seed\n",
        "tf.keras.utils.set_random_seed(42)\n",
        "\n",
        "# Create a model using the Sequential API\n",
        "model = tf.keras.Sequential([\n",
        "  tf.keras.layers.Dense(1)\n",
        "])\n",
        "\n",
        "# Compile the model\n",
        "model.compile(loss=tf.keras.losses.mae, # mae is short for mean absolute error\n",
        "              optimizer=tf.keras.optimizers.SGD(), # SGD is short for stochastic gradient descent\n",
        "              metrics=[\"mae\"])\n",
        "\n",
        "# Fit the model\n",
        "# model.fit(X, y, epochs=5) # this will break with TensorFlow 2.7.0+\n",
        "model.fit(tf.expand_dims(X, axis=-1), y, epochs=10)"
      ],
      "metadata": {
        "colab": {
          "base_uri": "https://localhost:8080/"
        },
        "id": "Gql6SF2P5g11",
        "outputId": "fba7e7f0-ba5f-43fb-910c-865aa32f1853"
      },
      "execution_count": null,
      "outputs": [
        {
          "output_type": "stream",
          "name": "stdout",
          "text": [
            "Epoch 1/10\n",
            "1/1 [==============================] - 0s 460ms/step - loss: 9.1572 - mae: 9.1572\n",
            "Epoch 2/10\n",
            "1/1 [==============================] - 0s 9ms/step - loss: 9.0247 - mae: 9.0247\n",
            "Epoch 3/10\n",
            "1/1 [==============================] - 0s 12ms/step - loss: 8.8922 - mae: 8.8922\n",
            "Epoch 4/10\n",
            "1/1 [==============================] - 0s 10ms/step - loss: 8.7597 - mae: 8.7597\n",
            "Epoch 5/10\n",
            "1/1 [==============================] - 0s 12ms/step - loss: 8.6272 - mae: 8.6272\n",
            "Epoch 6/10\n",
            "1/1 [==============================] - 0s 7ms/step - loss: 8.4947 - mae: 8.4947\n",
            "Epoch 7/10\n",
            "1/1 [==============================] - 0s 10ms/step - loss: 8.3622 - mae: 8.3622\n",
            "Epoch 8/10\n",
            "1/1 [==============================] - 0s 9ms/step - loss: 8.2297 - mae: 8.2297\n",
            "Epoch 9/10\n",
            "1/1 [==============================] - 0s 12ms/step - loss: 8.0972 - mae: 8.0972\n",
            "Epoch 10/10\n",
            "1/1 [==============================] - 0s 8ms/step - loss: 7.9647 - mae: 7.9647\n"
          ]
        },
        {
          "output_type": "execute_result",
          "data": {
            "text/plain": [
              "<keras.src.callbacks.History at 0x7bdec3f2b850>"
            ]
          },
          "metadata": {},
          "execution_count": 8
        }
      ]
    },
    {
      "cell_type": "code",
      "source": [
        "X, y"
      ],
      "metadata": {
        "colab": {
          "base_uri": "https://localhost:8080/"
        },
        "id": "vsViCorU4x1q",
        "outputId": "9cfbbd2e-bba5-4c17-a382-1ea1d28802d9"
      },
      "execution_count": null,
      "outputs": [
        {
          "output_type": "execute_result",
          "data": {
            "text/plain": [
              "(<tf.Tensor: shape=(8,), dtype=float32, numpy=array([-7., -4., -1.,  2.,  5.,  8., 11., 14.], dtype=float32)>,\n",
              " <tf.Tensor: shape=(8,), dtype=float32, numpy=array([ 3.,  6.,  9., 12., 15., 18., 21., 24.], dtype=float32)>)"
            ]
          },
          "metadata": {},
          "execution_count": 9
        }
      ]
    },
    {
      "cell_type": "code",
      "source": [
        "# make a prediction with the model\n",
        "model.predict([18.0])"
      ],
      "metadata": {
        "colab": {
          "base_uri": "https://localhost:8080/"
        },
        "id": "SB5rJXHi-lNG",
        "outputId": "d12b0ed1-8827-466a-a7d2-d925e185dcc5"
      },
      "execution_count": null,
      "outputs": [
        {
          "output_type": "stream",
          "name": "stdout",
          "text": [
            "1/1 [==============================] - 0s 91ms/step\n"
          ]
        },
        {
          "output_type": "execute_result",
          "data": {
            "text/plain": [
              "array([[28.734455]], dtype=float32)"
            ]
          },
          "metadata": {},
          "execution_count": 10
        }
      ]
    },
    {
      "cell_type": "markdown",
      "source": [
        "- **So our model trained well**"
      ],
      "metadata": {
        "id": "xCkU_9h-paMr"
      }
    },
    {
      "cell_type": "markdown",
      "source": [
        "### **A typical workflow for building neural networks is:**\n",
        "\n",
        "Build a model -> evaluate it -> build (tweak) a model -> evaulate it -> build (tweak) a model -> evaluate it..."
      ],
      "metadata": {
        "id": "d78hd-cfBCeG"
      }
    },
    {
      "cell_type": "code",
      "source": [
        "#make a bigger dataset\n",
        "\n",
        "X = tf.range(-100, 100, 4)\n",
        "X"
      ],
      "metadata": {
        "id": "PO2EYTu1DAqc",
        "colab": {
          "base_uri": "https://localhost:8080/"
        },
        "outputId": "a0d54c8e-5daa-4783-97aa-3b472c69935d"
      },
      "execution_count": null,
      "outputs": [
        {
          "output_type": "execute_result",
          "data": {
            "text/plain": [
              "<tf.Tensor: shape=(50,), dtype=int32, numpy=\n",
              "array([-100,  -96,  -92,  -88,  -84,  -80,  -76,  -72,  -68,  -64,  -60,\n",
              "        -56,  -52,  -48,  -44,  -40,  -36,  -32,  -28,  -24,  -20,  -16,\n",
              "        -12,   -8,   -4,    0,    4,    8,   12,   16,   20,   24,   28,\n",
              "         32,   36,   40,   44,   48,   52,   56,   60,   64,   68,   72,\n",
              "         76,   80,   84,   88,   92,   96], dtype=int32)>"
            ]
          },
          "metadata": {},
          "execution_count": 11
        }
      ]
    },
    {
      "cell_type": "code",
      "source": [
        "y = X+10\n",
        "y"
      ],
      "metadata": {
        "colab": {
          "base_uri": "https://localhost:8080/"
        },
        "id": "u_F6fVMRoNai",
        "outputId": "c03ab317-6a2f-4a71-ed8c-d979c4eccace"
      },
      "execution_count": null,
      "outputs": [
        {
          "output_type": "execute_result",
          "data": {
            "text/plain": [
              "<tf.Tensor: shape=(50,), dtype=int32, numpy=\n",
              "array([-90, -86, -82, -78, -74, -70, -66, -62, -58, -54, -50, -46, -42,\n",
              "       -38, -34, -30, -26, -22, -18, -14, -10,  -6,  -2,   2,   6,  10,\n",
              "        14,  18,  22,  26,  30,  34,  38,  42,  46,  50,  54,  58,  62,\n",
              "        66,  70,  74,  78,  82,  86,  90,  94,  98, 102, 106], dtype=int32)>"
            ]
          },
          "metadata": {},
          "execution_count": 12
        }
      ]
    },
    {
      "cell_type": "code",
      "source": [
        " import matplotlib.pyplot as plt\n",
        "\n",
        " plt.scatter(X,y)"
      ],
      "metadata": {
        "colab": {
          "base_uri": "https://localhost:8080/",
          "height": 448
        },
        "id": "u823-SzBoQyw",
        "outputId": "6272d099-f473-451e-f398-e455e40cca88"
      },
      "execution_count": null,
      "outputs": [
        {
          "output_type": "execute_result",
          "data": {
            "text/plain": [
              "<matplotlib.collections.PathCollection at 0x7bdec35a9ea0>"
            ]
          },
          "metadata": {},
          "execution_count": 13
        },
        {
          "output_type": "display_data",
          "data": {
            "text/plain": [
              "<Figure size 640x480 with 1 Axes>"
            ],
            "image/png": "[encoded data removed]"
          },
          "metadata": {}
        }
      ]
    },
    {
      "cell_type": "code",
      "source": [
        "len(X)"
      ],
      "metadata": {
        "colab": {
          "base_uri": "https://localhost:8080/"
        },
        "id": "2KtEydNRoYT6",
        "outputId": "c8259875-1028-4fa9-ce44-31ff7f336a4a"
      },
      "execution_count": null,
      "outputs": [
        {
          "output_type": "execute_result",
          "data": {
            "text/plain": [
              "50"
            ]
          },
          "metadata": {},
          "execution_count": 14
        }
      ]
    },
    {
      "cell_type": "markdown",
      "source": [
        "# **Train test split**"
      ],
      "metadata": {
        "id": "CVpAWx3VpbMD"
      }
    },
    {
      "cell_type": "code",
      "source": [
        "#slpit the data into train and test sets\n",
        "X_train = X[:40] # 80% of the data\n",
        "y_train = y[:40]\n",
        "\n",
        "X_test = X[40:] # 20% of the data\n",
        "y_test = y[40:]\n",
        "\n",
        "len(X_train), len(X_test), len(y_train), len(y_test)"
      ],
      "metadata": {
        "colab": {
          "base_uri": "https://localhost:8080/"
        },
        "id": "6pp-XWLgpg_2",
        "outputId": "686b9c69-3157-4bcf-d046-5c4f4736368e"
      },
      "execution_count": null,
      "outputs": [
        {
          "output_type": "execute_result",
          "data": {
            "text/plain": [
              "(40, 10, 40, 10)"
            ]
          },
          "metadata": {},
          "execution_count": 15
        }
      ]
    },
    {
      "cell_type": "code",
      "source": [
        "## visualizing the data\n",
        "plt.figure(figsize=(10,7))\n",
        "plt.scatter(X_train, y_train, c = 'red', label = 'Training data')\n",
        "plt.scatter(X_test, y_test, c='blue', label = 'Testing data')\n",
        "plt.legend()"
      ],
      "metadata": {
        "colab": {
          "base_uri": "https://localhost:8080/",
          "height": 545
        },
        "id": "rE5UFC5hqScX",
        "outputId": "883f41b8-caf7-44f2-ca9f-5f10c7cbc6ab"
      },
      "execution_count": null,
      "outputs": [
        {
          "output_type": "execute_result",
          "data": {
            "text/plain": [
              "<matplotlib.legend.Legend at 0x7bded092e350>"
            ]
          },
          "metadata": {},
          "execution_count": 16
        },
        {
          "output_type": "display_data",
          "data": {
            "text/plain": [
              "<Figure size 1000x700 with 1 Axes>"
            ],
            "image/png": "[encoded data removed]"
          },
          "metadata": {}
        }
      ]
    },
    {
      "cell_type": "code",
      "source": [
        "# let's build neural network for our model\n",
        "tf.keras.utils.set_random_seed(42)\n",
        "# 1. Create a model\n",
        "model = tf.keras.Sequential([\n",
        "    tf.keras.layers.Dense(10, input_shape=[1], name = 'input_layer'),\n",
        "    tf.keras.layers.Dense(1, name = 'output_layer')\n",
        "], name = 'rawan_1')\n",
        "\n",
        "# Compile model (same as above)\n",
        "model.compile(loss=tf.keras.losses.mae,\n",
        "              optimizer=tf.keras.optimizers.SGD(lr=0.0001),\n",
        "              metrics=[\"mae\"])\n",
        "\n",
        "# fit the model\n",
        "model.fit(X_train, y_train, epochs = 50)"
      ],
      "metadata": {
        "colab": {
          "base_uri": "https://localhost:8080/"
        },
        "id": "IDInGwIxq_M4",
        "outputId": "1a8cf1eb-e83b-4358-b028-f6d6c7354995"
      },
      "execution_count": null,
      "outputs": [
        {
          "output_type": "stream",
          "name": "stderr",
          "text": [
            "WARNING:absl:`lr` is deprecated in Keras optimizer, please use `learning_rate` or use the legacy optimizer, e.g.,tf.keras.optimizers.legacy.SGD.\n"
          ]
        },
        {
          "output_type": "stream",
          "name": "stdout",
          "text": [
            "Epoch 1/50\n",
            "2/2 [==============================] - 0s 13ms/step - loss: 33.8817 - mae: 33.8817\n",
            "Epoch 2/50\n",
            "2/2 [==============================] - 0s 7ms/step - loss: 28.1546 - mae: 28.1546\n",
            "Epoch 3/50\n",
            "2/2 [==============================] - 0s 6ms/step - loss: 32.1940 - mae: 32.1940\n",
            "Epoch 4/50\n",
            "2/2 [==============================] - 0s 7ms/step - loss: 13.5831 - mae: 13.5831\n",
            "Epoch 5/50\n",
            "2/2 [==============================] - 0s 7ms/step - loss: 18.4541 - mae: 18.4541\n",
            "Epoch 6/50\n",
            "2/2 [==============================] - 0s 7ms/step - loss: 9.3091 - mae: 9.3091\n",
            "Epoch 7/50\n",
            "2/2 [==============================] - 0s 6ms/step - loss: 10.3237 - mae: 10.3237\n",
            "Epoch 8/50\n",
            "2/2 [==============================] - 0s 8ms/step - loss: 11.2590 - mae: 11.2590\n",
            "Epoch 9/50\n",
            "2/2 [==============================] - 0s 7ms/step - loss: 42.3519 - mae: 42.3519\n",
            "Epoch 10/50\n",
            "2/2 [==============================] - 0s 8ms/step - loss: 29.5043 - mae: 29.5043\n",
            "Epoch 11/50\n",
            "2/2 [==============================] - 0s 8ms/step - loss: 7.7183 - mae: 7.7183\n",
            "Epoch 12/50\n",
            "2/2 [==============================] - 0s 7ms/step - loss: 28.5776 - mae: 28.5776\n",
            "Epoch 13/50\n",
            "2/2 [==============================] - 0s 10ms/step - loss: 11.5114 - mae: 11.5114\n",
            "Epoch 14/50\n",
            "2/2 [==============================] - 0s 8ms/step - loss: 30.2951 - mae: 30.2951\n",
            "Epoch 15/50\n",
            "2/2 [==============================] - 0s 8ms/step - loss: 20.0481 - mae: 20.0481\n",
            "Epoch 16/50\n",
            "2/2 [==============================] - 0s 7ms/step - loss: 9.9284 - mae: 9.9284\n",
            "Epoch 17/50\n",
            "2/2 [==============================] - 0s 8ms/step - loss: 17.8748 - mae: 17.8748\n",
            "Epoch 18/50\n",
            "2/2 [==============================] - 0s 9ms/step - loss: 14.3508 - mae: 14.3508\n",
            "Epoch 19/50\n",
            "2/2 [==============================] - 0s 8ms/step - loss: 14.4576 - mae: 14.4576\n",
            "Epoch 20/50\n",
            "2/2 [==============================] - 0s 6ms/step - loss: 10.4722 - mae: 10.4722\n",
            "Epoch 21/50\n",
            "2/2 [==============================] - 0s 7ms/step - loss: 15.2342 - mae: 15.2342\n",
            "Epoch 22/50\n",
            "2/2 [==============================] - 0s 8ms/step - loss: 15.5758 - mae: 15.5758\n",
            "Epoch 23/50\n",
            "2/2 [==============================] - 0s 7ms/step - loss: 9.2345 - mae: 9.2345\n",
            "Epoch 24/50\n",
            "2/2 [==============================] - 0s 7ms/step - loss: 17.2411 - mae: 17.2411\n",
            "Epoch 25/50\n",
            "2/2 [==============================] - 0s 8ms/step - loss: 15.9218 - mae: 15.9218\n",
            "Epoch 26/50\n",
            "2/2 [==============================] - 0s 8ms/step - loss: 20.8917 - mae: 20.8917\n",
            "Epoch 27/50\n",
            "2/2 [==============================] - 0s 7ms/step - loss: 26.0503 - mae: 26.0503\n",
            "Epoch 28/50\n",
            "2/2 [==============================] - 0s 8ms/step - loss: 18.5365 - mae: 18.5365\n",
            "Epoch 29/50\n",
            "2/2 [==============================] - 0s 9ms/step - loss: 9.2446 - mae: 9.2446\n",
            "Epoch 30/50\n",
            "2/2 [==============================] - 0s 7ms/step - loss: 29.1571 - mae: 29.1571\n",
            "Epoch 31/50\n",
            "2/2 [==============================] - 0s 10ms/step - loss: 52.8168 - mae: 52.8168\n",
            "Epoch 32/50\n",
            "2/2 [==============================] - 0s 7ms/step - loss: 11.9542 - mae: 11.9542\n",
            "Epoch 33/50\n",
            "2/2 [==============================] - 0s 8ms/step - loss: 15.5658 - mae: 15.5658\n",
            "Epoch 34/50\n",
            "2/2 [==============================] - 0s 8ms/step - loss: 12.6443 - mae: 12.6443\n",
            "Epoch 35/50\n",
            "2/2 [==============================] - 0s 8ms/step - loss: 9.2183 - mae: 9.2183\n",
            "Epoch 36/50\n",
            "2/2 [==============================] - 0s 7ms/step - loss: 16.5617 - mae: 16.5617\n",
            "Epoch 37/50\n",
            "2/2 [==============================] - 0s 8ms/step - loss: 11.0627 - mae: 11.0627\n",
            "Epoch 38/50\n",
            "2/2 [==============================] - 0s 6ms/step - loss: 18.1901 - mae: 18.1901\n",
            "Epoch 39/50\n",
            "2/2 [==============================] - 0s 7ms/step - loss: 19.1251 - mae: 19.1251\n",
            "Epoch 40/50\n",
            "2/2 [==============================] - 0s 7ms/step - loss: 20.4756 - mae: 20.4756\n",
            "Epoch 41/50\n",
            "2/2 [==============================] - 0s 7ms/step - loss: 14.8564 - mae: 14.8564\n",
            "Epoch 42/50\n",
            "2/2 [==============================] - 0s 7ms/step - loss: 12.2402 - mae: 12.2402\n",
            "Epoch 43/50\n",
            "2/2 [==============================] - 0s 6ms/step - loss: 10.7112 - mae: 10.7112\n",
            "Epoch 44/50\n",
            "2/2 [==============================] - 0s 11ms/step - loss: 22.9095 - mae: 22.9095\n",
            "Epoch 45/50\n",
            "2/2 [==============================] - 0s 7ms/step - loss: 10.3562 - mae: 10.3562\n",
            "Epoch 46/50\n",
            "2/2 [==============================] - 0s 7ms/step - loss: 11.7399 - mae: 11.7399\n",
            "Epoch 47/50\n",
            "2/2 [==============================] - 0s 9ms/step - loss: 9.6645 - mae: 9.6645\n",
            "Epoch 48/50\n",
            "2/2 [==============================] - 0s 7ms/step - loss: 17.2786 - mae: 17.2786\n",
            "Epoch 49/50\n",
            "2/2 [==============================] - 0s 7ms/step - loss: 9.5433 - mae: 9.5433\n",
            "Epoch 50/50\n",
            "2/2 [==============================] - 0s 9ms/step - loss: 13.7651 - mae: 13.7651\n"
          ]
        },
        {
          "output_type": "execute_result",
          "data": {
            "text/plain": [
              "<keras.src.callbacks.History at 0x7bded08e0190>"
            ]
          },
          "metadata": {},
          "execution_count": 17
        }
      ]
    },
    {
      "cell_type": "code",
      "source": [
        "model.summary()"
      ],
      "metadata": {
        "id": "FP__8hCBs5PY",
        "colab": {
          "base_uri": "https://localhost:8080/"
        },
        "outputId": "61629f59-b8f8-4687-9786-ef55fdc9da40"
      },
      "execution_count": null,
      "outputs": [
        {
          "output_type": "stream",
          "name": "stdout",
          "text": [
            "Model: \"rawan_1\"\n",
            "_________________________________________________________________\n",
            " Layer (type)                Output Shape              Param #   \n",
            "=================================================================\n",
            " input_layer (Dense)         (None, 10)                20        \n",
            "                                                                 \n",
            " output_layer (Dense)        (None, 1)                 11        \n",
            "                                                                 \n",
            "=================================================================\n",
            "Total params: 31 (124.00 Byte)\n",
            "Trainable params: 31 (124.00 Byte)\n",
            "Non-trainable params: 0 (0.00 Byte)\n",
            "_________________________________________________________________\n"
          ]
        }
      ]
    },
    {
      "cell_type": "code",
      "source": [
        "X[1], y[1]"
      ],
      "metadata": {
        "colab": {
          "base_uri": "https://localhost:8080/"
        },
        "id": "PaLdPiHZuiP9",
        "outputId": "c4e3b312-b00b-4440-c153-24cb311c460a"
      },
      "execution_count": null,
      "outputs": [
        {
          "output_type": "execute_result",
          "data": {
            "text/plain": [
              "(<tf.Tensor: shape=(), dtype=int32, numpy=-96>,\n",
              " <tf.Tensor: shape=(), dtype=int32, numpy=-86>)"
            ]
          },
          "metadata": {},
          "execution_count": 19
        }
      ]
    },
    {
      "cell_type": "code",
      "source": [
        "model.predict([-86.0])"
      ],
      "metadata": {
        "colab": {
          "base_uri": "https://localhost:8080/"
        },
        "id": "Ku9JLKTtvVBL",
        "outputId": "873366e9-84ec-435c-b32e-a83279f2c073"
      },
      "execution_count": null,
      "outputs": [
        {
          "output_type": "stream",
          "name": "stdout",
          "text": [
            "1/1 [==============================] - 0s 67ms/step\n"
          ]
        },
        {
          "output_type": "execute_result",
          "data": {
            "text/plain": [
              "array([[-91.850746]], dtype=float32)"
            ]
          },
          "metadata": {},
          "execution_count": 20
        }
      ]
    },
    {
      "cell_type": "code",
      "source": [
        "from tensorflow.keras.utils import plot_model\n",
        "plot_model(model = model, show_shapes = True)"
      ],
      "metadata": {
        "colab": {
          "base_uri": "https://localhost:8080/",
          "height": 312
        },
        "id": "g1hgF4ZAvob9",
        "outputId": "ca6f00d9-2416-42e0-8ec2-e1dab49d8e0c"
      },
      "execution_count": null,
      "outputs": [
        {
          "output_type": "execute_result",
          "data": {
            "image/png": "[encoded data removed]",
            "text/plain": [
              "<IPython.core.display.Image object>"
            ]
          },
          "metadata": {},
          "execution_count": 21
        }
      ]
    },
    {
      "cell_type": "markdown",
      "source": [
        "# **Visualizing model predictions**"
      ],
      "metadata": {
        "id": "1fn5WhqhxbVN"
      }
    },
    {
      "cell_type": "code",
      "source": [
        "# make some predictions\n",
        "\n",
        "y_pred = model.predict(X_test)\n",
        "y_pred"
      ],
      "metadata": {
        "colab": {
          "base_uri": "https://localhost:8080/"
        },
        "id": "ymbp7METzI_f",
        "outputId": "0774f21d-1b2a-429c-bbe6-c1955d3dde25"
      },
      "execution_count": null,
      "outputs": [
        {
          "output_type": "stream",
          "name": "stdout",
          "text": [
            "1/1 [==============================] - 0s 49ms/step\n"
          ]
        },
        {
          "output_type": "execute_result",
          "data": {
            "text/plain": [
              "array([[ 65.55178 ],\n",
              "       [ 69.86418 ],\n",
              "       [ 74.17658 ],\n",
              "       [ 78.48898 ],\n",
              "       [ 82.801384],\n",
              "       [ 87.11378 ],\n",
              "       [ 91.42618 ],\n",
              "       [ 95.73857 ],\n",
              "       [100.05097 ],\n",
              "       [104.36337 ]], dtype=float32)"
            ]
          },
          "metadata": {},
          "execution_count": 22
        }
      ]
    },
    {
      "cell_type": "code",
      "source": [
        "# ground truth labels\n",
        "y_test"
      ],
      "metadata": {
        "colab": {
          "base_uri": "https://localhost:8080/"
        },
        "id": "KRoabUSRzdzT",
        "outputId": "ec067529-7f73-4599-8ae1-162770117ec5"
      },
      "execution_count": null,
      "outputs": [
        {
          "output_type": "execute_result",
          "data": {
            "text/plain": [
              "<tf.Tensor: shape=(10,), dtype=int32, numpy=array([ 70,  74,  78,  82,  86,  90,  94,  98, 102, 106], dtype=int32)>"
            ]
          },
          "metadata": {},
          "execution_count": 23
        }
      ]
    },
    {
      "cell_type": "code",
      "source": [
        "# lets create a plotting function\n",
        "\n",
        "def plot_predictions(train_data = X_train,\n",
        "                     train_labels = y_train,\n",
        "                     test_data = X_test,\n",
        "                     test_labels = y_test,\n",
        "                     predictions = y_pred):\n",
        "  \"\"\"\n",
        "  Plots training data, test data and compares predictions to ground truth labels.\n",
        "  \"\"\"\n",
        "  plt.figure(figsize = (10, 7))\n",
        "\n",
        "  #plot training data\n",
        "  plt.scatter(train_data, train_labels, c = \"b\", label = \"Training data\")\n",
        "\n",
        "  #plot test data\n",
        "  plt.scatter(test_data,test_labels, c = \"g\", label = \"Testing data\")\n",
        "\n",
        "  #plot prediction data\n",
        "  plt.scatter(test_data, predictions, c = \"r\", label = \"Prediction data\")\n",
        "\n",
        "  plt.legend()"
      ],
      "metadata": {
        "id": "qCaf9GIuziWo"
      },
      "execution_count": null,
      "outputs": []
    },
    {
      "cell_type": "code",
      "source": [
        "plot_predictions()"
      ],
      "metadata": {
        "colab": {
          "base_uri": "https://localhost:8080/",
          "height": 527
        },
        "id": "H54w3t1v0_5t",
        "outputId": "198807a9-d5bb-4e9b-bd0f-5aea665ccd3a"
      },
      "execution_count": null,
      "outputs": [
        {
          "output_type": "display_data",
          "data": {
            "text/plain": [
              "<Figure size 1000x700 with 1 Axes>"
            ],
            "image/png": "[encoded data removed]"
          },
          "metadata": {}
        }
      ]
    },
    {
      "cell_type": "markdown",
      "source": [
        "## **Evaluating our model**"
      ],
      "metadata": {
        "id": "8rFvsPDu1UQv"
      }
    },
    {
      "cell_type": "code",
      "source": [
        "model.evaluate(X_test, y_test)"
      ],
      "metadata": {
        "colab": {
          "base_uri": "https://localhost:8080/"
        },
        "id": "cILio8dI2_2i",
        "outputId": "138a47fb-c161-4fbc-e977-b75e25ab7975"
      },
      "execution_count": null,
      "outputs": [
        {
          "output_type": "stream",
          "name": "stdout",
          "text": [
            "1/1 [==============================] - 0s 141ms/step - loss: 3.0424 - mae: 3.0424\n"
          ]
        },
        {
          "output_type": "execute_result",
          "data": {
            "text/plain": [
              "[3.042423963546753, 3.042423963546753]"
            ]
          },
          "metadata": {},
          "execution_count": 26
        }
      ]
    },
    {
      "cell_type": "code",
      "source": [
        "y_pred"
      ],
      "metadata": {
        "colab": {
          "base_uri": "https://localhost:8080/"
        },
        "id": "R0S16TmZ7cLK",
        "outputId": "58ab818d-dea4-47d6-e67a-756f6b3e9b0f"
      },
      "execution_count": null,
      "outputs": [
        {
          "output_type": "execute_result",
          "data": {
            "text/plain": [
              "array([[ 65.55178 ],\n",
              "       [ 69.86418 ],\n",
              "       [ 74.17658 ],\n",
              "       [ 78.48898 ],\n",
              "       [ 82.801384],\n",
              "       [ 87.11378 ],\n",
              "       [ 91.42618 ],\n",
              "       [ 95.73857 ],\n",
              "       [100.05097 ],\n",
              "       [104.36337 ]], dtype=float32)"
            ]
          },
          "metadata": {},
          "execution_count": 27
        }
      ]
    },
    {
      "cell_type": "code",
      "source": [
        "y_test"
      ],
      "metadata": {
        "colab": {
          "base_uri": "https://localhost:8080/"
        },
        "id": "TwaJS5Ic7FZ2",
        "outputId": "78c07a1b-59e4-4726-eb7b-ae3833505006"
      },
      "execution_count": null,
      "outputs": [
        {
          "output_type": "execute_result",
          "data": {
            "text/plain": [
              "<tf.Tensor: shape=(10,), dtype=int32, numpy=array([ 70,  74,  78,  82,  86,  90,  94,  98, 102, 106], dtype=int32)>"
            ]
          },
          "metadata": {},
          "execution_count": 28
        }
      ]
    },
    {
      "cell_type": "markdown",
      "source": [
        "#### **Changing the shape of `y_pred` to (10,) because shape of `y_pred` and `y_test` must be same**"
      ],
      "metadata": {
        "id": "dJo1XByA7f7p"
      }
    },
    {
      "cell_type": "code",
      "source": [
        "tf.squeeze(y_pred)"
      ],
      "metadata": {
        "colab": {
          "base_uri": "https://localhost:8080/"
        },
        "id": "LsSVqFvR4935",
        "outputId": "791c9be5-d301-4d9d-dbeb-41883ef43708"
      },
      "execution_count": null,
      "outputs": [
        {
          "output_type": "execute_result",
          "data": {
            "text/plain": [
              "<tf.Tensor: shape=(10,), dtype=float32, numpy=\n",
              "array([ 65.55178 ,  69.86418 ,  74.17658 ,  78.48898 ,  82.801384,\n",
              "        87.11378 ,  91.42618 ,  95.73857 , 100.05097 , 104.36337 ],\n",
              "      dtype=float32)>"
            ]
          },
          "metadata": {},
          "execution_count": 29
        }
      ]
    },
    {
      "cell_type": "code",
      "source": [
        "# claculate the absolute error\n",
        "tf.metrics.mean_absolute_error(y_test, tf.squeeze(y_pred))"
      ],
      "metadata": {
        "colab": {
          "base_uri": "https://localhost:8080/"
        },
        "id": "88HMi1xH4OtT",
        "outputId": "3a317d0f-e11e-46c5-f164-4baa3ee1d80b"
      },
      "execution_count": null,
      "outputs": [
        {
          "output_type": "execute_result",
          "data": {
            "text/plain": [
              "<tf.Tensor: shape=(), dtype=float32, numpy=3.0424218>"
            ]
          },
          "metadata": {},
          "execution_count": 30
        }
      ]
    },
    {
      "cell_type": "code",
      "source": [
        "# calculate mean square error\n",
        "mse = tf.metrics.mean_squared_error(y_true= y_test,\n",
        "                                    y_pred = tf.squeeze(y_pred))\n",
        "mse"
      ],
      "metadata": {
        "colab": {
          "base_uri": "https://localhost:8080/"
        },
        "id": "94mq7h0I6_-Y",
        "outputId": "d1e3adc0-76ff-427f-c8ec-25a2b7fdc1ab"
      },
      "execution_count": null,
      "outputs": [
        {
          "output_type": "execute_result",
          "data": {
            "text/plain": [
              "<tf.Tensor: shape=(), dtype=float32, numpy=10.061471>"
            ]
          },
          "metadata": {},
          "execution_count": 31
        }
      ]
    },
    {
      "cell_type": "code",
      "source": [
        "# make some functions to use mae and mse\n",
        "\n",
        "def mae(y_true, y_pred):\n",
        "  return tf.metrics.mean_absolute_error(y_true = y_true,\n",
        "                                        y_pred = tf.squeeze(y_pred))\n",
        "\n",
        "def mse(y_true, y_pred):\n",
        "  return tf.metrics.mean_squared_error(y_true = y_true,\n",
        "                                       y_pred = tf.squeeze(y_pred))"
      ],
      "metadata": {
        "id": "OpcNpD3t92VS"
      },
      "execution_count": null,
      "outputs": []
    },
    {
      "cell_type": "code",
      "source": [
        "# Set random seed\n",
        "tf.random.set_seed(42)\n",
        "\n",
        "# Replicate original model\n",
        "model_1 = tf.keras.Sequential([\n",
        "  tf.keras.layers.Dense(10),\n",
        "  tf.keras.layers.Dense(1)\n",
        "])\n",
        "\n",
        "# Compile the model\n",
        "model_1.compile(loss=tf.keras.losses.mae,\n",
        "                optimizer=tf.keras.optimizers.SGD(),\n",
        "                metrics=['mse'])\n",
        "\n",
        "# Fit the model\n",
        "model_1.fit(tf.expand_dims(X_train, axis=-1), y_train, epochs=100)"
      ],
      "metadata": {
        "id": "TMwNSVgi-sS5"
      },
      "execution_count": null,
      "outputs": []
    },
    {
      "cell_type": "code",
      "source": [
        "y_pred = model_1.predict(X_test)"
      ],
      "metadata": {
        "colab": {
          "base_uri": "https://localhost:8080/"
        },
        "id": "_3OOmEW9BIWu",
        "outputId": "fad17e64-3b7b-4660-aa21-24c42ad8e334"
      },
      "execution_count": null,
      "outputs": [
        {
          "output_type": "stream",
          "name": "stdout",
          "text": [
            "1/1 [==============================] - 0s 78ms/step\n"
          ]
        }
      ]
    },
    {
      "cell_type": "code",
      "source": [
        "mae(y_test, y_pred)"
      ],
      "metadata": {
        "colab": {
          "base_uri": "https://localhost:8080/"
        },
        "id": "GCs0CsRpBqf8",
        "outputId": "77b353a0-3ebd-4972-eff3-fe159073b302"
      },
      "execution_count": null,
      "outputs": [
        {
          "output_type": "execute_result",
          "data": {
            "text/plain": [
              "<tf.Tensor: shape=(), dtype=float32, numpy=2.9700577>"
            ]
          },
          "metadata": {},
          "execution_count": 58
        }
      ]
    },
    {
      "cell_type": "code",
      "source": [
        "plot_predictions()"
      ],
      "metadata": {
        "colab": {
          "base_uri": "https://localhost:8080/",
          "height": 527
        },
        "id": "_ZUd4kUvCxHQ",
        "outputId": "bcebc2d3-c8a9-4154-cb96-e0ab7dbe41d0"
      },
      "execution_count": null,
      "outputs": [
        {
          "output_type": "display_data",
          "data": {
            "text/plain": [
              "<Figure size 1000x700 with 1 Axes>"
            ],
            "image/png": "[encoded data removed]"
          },
          "metadata": {}
        }
      ]
    },
    {
      "cell_type": "code",
      "source": [
        "# calculate model_1 evaluation matrix\n",
        "\n",
        "mae_1 = mae(y_test, y_pred)"
      ],
      "metadata": {
        "id": "nLWA1-w0C3NC"
      },
      "execution_count": null,
      "outputs": []
    },
    {
      "cell_type": "code",
      "source": [
        "mae_1"
      ],
      "metadata": {
        "colab": {
          "base_uri": "https://localhost:8080/"
        },
        "id": "l-djjXeSDby8",
        "outputId": "90d650fd-b695-4256-9ec7-26dd6824a65a"
      },
      "execution_count": null,
      "outputs": [
        {
          "output_type": "execute_result",
          "data": {
            "text/plain": [
              "<tf.Tensor: shape=(), dtype=float32, numpy=2.9700577>"
            ]
          },
          "metadata": {},
          "execution_count": 61
        }
      ]
    },
    {
      "cell_type": "code",
      "source": [
        "mse_1 = mse(y_test, y_pred)\n",
        "mse_1"
      ],
      "metadata": {
        "colab": {
          "base_uri": "https://localhost:8080/"
        },
        "id": "0Xb891vYDflf",
        "outputId": "114e1384-a015-4f80-a779-45745fb25427"
      },
      "execution_count": null,
      "outputs": [
        {
          "output_type": "execute_result",
          "data": {
            "text/plain": [
              "<tf.Tensor: shape=(), dtype=float32, numpy=11.571854>"
            ]
          },
          "metadata": {},
          "execution_count": 62
        }
      ]
    },
    {
      "cell_type": "markdown",
      "source": [
        "## **Saving Our Model**"
      ],
      "metadata": {
        "id": "Ao-yu_fTKTiD"
      }
    },
    {
      "cell_type": "code",
      "source": [
        "model_1.save(\"/content/drive/MyDrive/Tensorflow/Saved_models/Lin_reg_model_1.h5\")"
      ],
      "metadata": {
        "id": "0RVoLZjmLnuI"
      },
      "execution_count": null,
      "outputs": []
    },
    {
      "cell_type": "markdown",
      "source": [
        "## **Load Saved Model**"
      ],
      "metadata": {
        "id": "8bPbLYUwMemX"
      }
    },
    {
      "cell_type": "code",
      "source": [
        "# Loading a saved model\n",
        "loaded_saved_model = tf.keras.models.load_model(\"/content/drive/MyDrive/Tensorflow/Saved_models/Lin_reg_model_1.h5\")\n",
        "loaded_saved_model.summary()"
      ],
      "metadata": {
        "colab": {
          "base_uri": "https://localhost:8080/"
        },
        "id": "fJgCywGrM9nr",
        "outputId": "e5931ef9-5c04-41c8-8f38-8142768f165b"
      },
      "execution_count": null,
      "outputs": [
        {
          "output_type": "stream",
          "name": "stdout",
          "text": [
            "Model: \"sequential_5\"\n",
            "_________________________________________________________________\n",
            " Layer (type)                Output Shape              Param #   \n",
            "=================================================================\n",
            " dense_8 (Dense)             (None, 10)                20        \n",
            "                                                                 \n",
            " dense_9 (Dense)             (None, 1)                 11        \n",
            "                                                                 \n",
            "=================================================================\n",
            "Total params: 31 (124.00 Byte)\n",
            "Trainable params: 31 (124.00 Byte)\n",
            "Non-trainable params: 0 (0.00 Byte)\n",
            "_________________________________________________________________\n"
          ]
        }
      ]
    },
    {
      "cell_type": "code",
      "source": [],
      "metadata": {
        "id": "ZDAvTF-LN0RI"
      },
      "execution_count": null,
      "outputs": []
    }
  ]
}